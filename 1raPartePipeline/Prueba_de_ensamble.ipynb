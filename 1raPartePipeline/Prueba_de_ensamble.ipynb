{
 "cells": [
  {
   "cell_type": "code",
   "execution_count": 1,
   "metadata": {},
   "outputs": [],
   "source": [
    "from ClasificadoresEnsamblados import ClassifGSSC"
   ]
  },
  {
   "cell_type": "code",
   "execution_count": 63,
   "metadata": {},
   "outputs": [],
   "source": [
    "from gssc.infer import EEGInfer\n",
    "import mne\n",
    "import pandas as pd\n",
    "from sklearn.metrics import f1_score,accuracy_score\n",
    "import numpy as np\n",
    "from scipy.io import loadmat"
   ]
  },
  {
   "cell_type": "markdown",
   "metadata": {},
   "source": [
    "# GSSC PRUEBA"
   ]
  },
  {
   "cell_type": "code",
   "execution_count": 3,
   "metadata": {},
   "outputs": [],
   "source": [
    "from itertools import chain\n",
    "from sklearn.metrics import precision_recall_fscore_support\n",
    "def salida_predicha(hypno):\n",
    "    hip = []\n",
    "    for k, duracion in enumerate(hypno['duration']):\n",
    "        n_veces = int(duracion / 30)\n",
    "        \"\"\"\n",
    "        if n_veces == 0 :\n",
    "            estado = hypno['trial_type'][k]\n",
    "            hip.extend([estado] * 1)\n",
    "        else :\n",
    "        \"\"\"\n",
    "        estado = hypno['trial_type'][k]\n",
    "        hip.extend([estado] * n_veces)\n",
    "    \n",
    "    return hip.copy()"
   ]
  },
  {
   "cell_type": "code",
   "execution_count": 4,
   "metadata": {},
   "outputs": [],
   "source": [
    "# probando el algoritmo de GSSC datos SC\n",
    "dic = r'H:\\Mi unidad\\FormatoBIDS\\DataseSleep-Casset\\sub-001\\ses-001\\eeg\\sub-001_ses-001_task-sleep_eeg.edf'\n",
    "hip = r'H:\\Mi unidad\\FormatoBIDS\\DataseSleep-Casset\\sub-001\\ses-001\\eeg\\sub-001_ses-001_task-sleep_events.tsv'\n",
    "\n",
    "dic_dublin =r'H:\\Mi unidad\\FormatoBIDS\\DatasetCollegeDublin\\sub-001\\ses-001\\eeg\\sub-001_ses-001_task-sleep_eeg.edf'\n",
    "hip_dublin = r'H:\\Mi unidad\\FormatoBIDS\\DatasetCollegeDublin\\sub-001\\ses-001\\eeg\\sub-001_ses-001_task-sleep_events.tsv'\n",
    "\n",
    "# leo los datos\n",
    "raw =  mne.io.read_raw_edf(dic, preload =  True)\n",
    "anotaciones_real  = pd.read_csv(hip, sep  = '\\t')"
   ]
  },
  {
   "cell_type": "code",
   "execution_count": 6,
   "metadata": {},
   "outputs": [],
   "source": [
    "# obtengo las anotaciones en el formato adecuado\n",
    "anotaciones_real\n",
    "Y_real = salida_predicha(anotaciones_real)\n",
    "\n",
    "np.unique(Y_real)\n",
    "mapa = {'NREM1' :1, 'NREM2':2, 'NREM3':3, 'REM':4, 'WAKE':0}\n",
    "y_real = [mapa.get(dato) for dato in Y_real][1:]"
   ]
  },
  {
   "cell_type": "code",
   "execution_count": 8,
   "metadata": {},
   "outputs": [
    {
     "data": {
      "text/plain": [
       "['EEG Fpz-Cz',\n",
       " 'EEG Pz-Oz',\n",
       " 'EOG horizontal',\n",
       " 'Resp oro-nasal',\n",
       " 'EMG submental',\n",
       " 'Temp rectal',\n",
       " 'Event marker']"
      ]
     },
     "execution_count": 8,
     "metadata": {},
     "output_type": "execute_result"
    }
   ],
   "source": [
    "raw.info['ch_names']\n"
   ]
  },
  {
   "cell_type": "code",
   "execution_count": 58,
   "metadata": {},
   "outputs": [
    {
     "name": "stderr",
     "output_type": "stream",
     "text": [
      "c:\\Users\\Bruno\\OneDrive\\Escritorio\\Proyecto\\.venv\\lib\\site-packages\\gssc\\infer.py:117: UserWarning: CUDA was selected but cannot be found on this machine. If you believe this is in error, check your CUDA installation. Otherwise set use_cuda to False.\n",
      "  warnings.warn(\"CUDA was selected but cannot be found on this \"\n"
     ]
    },
    {
     "name": "stdout",
     "output_type": "stream",
     "text": [
      "Filtering raw data in 1 contiguous segment\n",
      "\n",
      "FIR filter parameters\n",
      "---------------------\n",
      "Designing a one-pass, zero-phase, non-causal allpass filter:\n",
      "- Windowed time-domain design (firwin) method\n",
      "- Hamming window with 0.0194 passband ripple and 53 dB stopband attenuation\n",
      "- Filter length: 1 samples (0.010 sec)\n",
      "\n"
     ]
    },
    {
     "name": "stderr",
     "output_type": "stream",
     "text": [
      "c:\\Users\\Bruno\\OneDrive\\Escritorio\\Proyecto\\.venv\\lib\\site-packages\\gssc\\infer.py:178: UserWarning: WARNING: GSSC was trained on data with a highpass filter of 0.3Hz. These data have a highpass filter of 0.5Hz\n",
      "  warnings.warn(\"WARNING: GSSC was trained on data with a highpass \"\n"
     ]
    },
    {
     "name": "stdout",
     "output_type": "stream",
     "text": [
      "Cutting 29.99000000000524 seconds from the back.\n",
      "Not setting metadata\n",
      "2649 matching events found\n",
      "No baseline correction applied\n",
      "0 projection items activated\n",
      "Using data from preloaded Raw for 2649 events and 3001 original time points ...\n",
      "0 bad epochs dropped\n",
      "Inferring permutation 1 of 5\n",
      "Inferring permutation 2 of 5\n",
      "Inferring permutation 3 of 5\n",
      "Inferring permutation 4 of 5\n",
      "Inferring permutation 5 of 5\n"
     ]
    }
   ],
   "source": [
    "######################## usando la funcion de GSSC ################################\n",
    "dic = {'channels' : { 'eog' : [ 'EOG horizontal'], 'eeg': ['EEG Fpz-Cz','EEG Pz-Oz']}}\n",
    "raw.set_channel_types({'EOG horizontal': 'eog'})\n",
    "pesos2, anotaciones2 = ClassifGSSC(raw,dic)"
   ]
  },
  {
   "cell_type": "code",
   "execution_count": 10,
   "metadata": {},
   "outputs": [
    {
     "name": "stdout",
     "output_type": "stream",
     "text": [
      "Filtering raw data in 1 contiguous segment\n",
      "Setting up low-pass filter at 30 Hz\n",
      "\n",
      "FIR filter parameters\n",
      "---------------------\n",
      "Designing a one-pass, zero-phase, non-causal lowpass filter:\n",
      "- Windowed time-domain design (firwin) method\n",
      "- Hamming window with 0.0194 passband ripple and 53 dB stopband attenuation\n",
      "- Upper passband edge: 30.00 Hz\n",
      "- Upper transition bandwidth: 7.50 Hz (-6 dB cutoff frequency: 33.75 Hz)\n",
      "- Filter length: 45 samples (0.450 sec)\n",
      "\n"
     ]
    },
    {
     "name": "stderr",
     "output_type": "stream",
     "text": [
      "c:\\Users\\Bruno\\OneDrive\\Escritorio\\Proyecto\\.venv\\lib\\site-packages\\gssc\\infer.py:117: UserWarning: CUDA was selected but cannot be found on this machine. If you believe this is in error, check your CUDA installation. Otherwise set use_cuda to False.\n",
      "  warnings.warn(\"CUDA was selected but cannot be found on this \"\n",
      "c:\\Users\\Bruno\\OneDrive\\Escritorio\\Proyecto\\.venv\\lib\\site-packages\\gssc\\infer.py:178: UserWarning: WARNING: GSSC was trained on data with a highpass filter of 0.3Hz. These data have a highpass filter of 0.5Hz\n",
      "  warnings.warn(\"WARNING: GSSC was trained on data with a highpass \"\n"
     ]
    },
    {
     "name": "stdout",
     "output_type": "stream",
     "text": [
      "Cutting 29.99000000000524 seconds from the back.\n",
      "Not setting metadata\n",
      "2649 matching events found\n",
      "No baseline correction applied\n",
      "0 projection items activated\n",
      "Using data from preloaded Raw for 2649 events and 3001 original time points ...\n",
      "0 bad epochs dropped\n",
      "Inferring permutation 1 of 5\n",
      "Inferring permutation 2 of 5\n",
      "Inferring permutation 3 of 5\n",
      "Inferring permutation 4 of 5\n",
      "Inferring permutation 5 of 5\n"
     ]
    }
   ],
   "source": [
    "################## Pruebo  GSSC  con lso datos de SC / dubin #####################\n",
    "Net = EEGInfer()\n",
    "raw.set_channel_types({'EOG horizontal': 'eog'})\n",
    "\n",
    "anotaciones,tiempos, pesos = Net.mne_infer(inst = raw, eeg=['EEG Fpz-Cz', 'EEG Pz-Oz'], eog=[ 'EOG horizontal'])"
   ]
  },
  {
   "cell_type": "code",
   "execution_count": 26,
   "metadata": {},
   "outputs": [
    {
     "name": "stdout",
     "output_type": "stream",
     "text": [
      "0.9592298980747452\n",
      "0.8246074912887644\n",
      "[0.99226354 0.45977011 0.86821705 0.88940092 0.91338583]\n"
     ]
    }
   ],
   "source": [
    "y_prediccion = list(anotaciones)\n",
    "accuracy  = accuracy_score(y_real, y_prediccion)       \n",
    "f1_macro = f1_score(y_real, y_prediccion, average='macro')\n",
    "F1_X_clase = f1_score(y_real, y_prediccion, average=None)\n",
    "print(accuracy)\n",
    "print(f1_macro)\n",
    "print(F1_X_clase)"
   ]
  },
  {
   "cell_type": "code",
   "execution_count": 60,
   "metadata": {},
   "outputs": [
    {
     "name": "stdout",
     "output_type": "stream",
     "text": [
      "Extracting EDF parameters from H:\\.shortcut-targets-by-id\\1oz7_KTs_0LBRN7CMTRkLDKYI--PGbP_t\\CNTR_VMA_NOCHE-BIDS_copy\\sub-174\\ses-day1\\eeg\\sub-174_ses-day1_task-sleep_eeg.edf...\n",
      "EDF file detected\n",
      "Setting channel info structure...\n",
      "Creating raw.info structure...\n",
      "Reading 0 ... 6036399  =      0.000 ... 30181.995 secs...\n"
     ]
    }
   ],
   "source": [
    "# probando el algoritmo de GSSC datos agus\n",
    "raw_=r'H:\\.shortcut-targets-by-id\\1oz7_KTs_0LBRN7CMTRkLDKYI--PGbP_t\\CNTR_VMA_NOCHE-BIDS_copy\\sub-174\\ses-day1\\eeg\\sub-174_ses-day1_task-sleep_eeg.edf'\n",
    "hip =  r'H:\\.shortcut-targets-by-id\\1epHQ10lpZXvKpjB3tVz3XnAwTgWm38El\\SUENIO\\sub-174\\ses-day1\\sleep_staging\\sub-174_ses-day1_task-sleep_sleepStages.mat'\n",
    "raw = mne.io.read_raw(raw_, preload=True)\n",
    "data  =  loadmat(hip)"
   ]
  },
  {
   "cell_type": "code",
   "execution_count": 63,
   "metadata": {},
   "outputs": [],
   "source": [
    "salida_real = data['stageData'][0][0][6].flatten().tolist()\n",
    "mapa = {0:0, 1:1, 2:2, 3:3, 5:4, 7:0}\n",
    "y_real = [mapa.get(dato) for dato in salida_real][1:]"
   ]
  },
  {
   "cell_type": "code",
   "execution_count": 66,
   "metadata": {},
   "outputs": [
    {
     "data": {
      "text/plain": [
       "['A1-A2',\n",
       " 'Marca',\n",
       " 'FC1',\n",
       " 'FC5',\n",
       " 'C3',\n",
       " 'P3',\n",
       " 'P4',\n",
       " 'C4',\n",
       " 'FC6',\n",
       " 'FC2',\n",
       " 'EOG2',\n",
       " 'EOG1',\n",
       " 'EMG',\n",
       " 'Fz',\n",
       " 'Cz',\n",
       " 'Pz']"
      ]
     },
     "execution_count": 66,
     "metadata": {},
     "output_type": "execute_result"
    }
   ],
   "source": [
    "raw.info['ch_names']"
   ]
  },
  {
   "cell_type": "code",
   "execution_count": null,
   "metadata": {},
   "outputs": [],
   "source": [
    "Net = EEGInfer()\n",
    "raw.set_channel_types({ 'EOG2':'eog','EOG1':'eog'})\n",
    "anotacion,tiempos, pesos = Net.mne_infer(inst = raw, eeg=['FC1','FC5','C3','P3','P4','C4','FC6','FC2', 'Fz','Cz','Pz'], eog=[  'EOG2','EOG1'])"
   ]
  },
  {
   "cell_type": "code",
   "execution_count": 71,
   "metadata": {},
   "outputs": [
    {
     "name": "stdout",
     "output_type": "stream",
     "text": [
      "0.7375745526838966\n",
      "0.6795509536611137\n",
      "[0.71428571 0.33093525 0.73056995 0.79843444 0.82352941]\n"
     ]
    }
   ],
   "source": [
    "y_prediccion = list(anotacion)\n",
    "accuracy  = accuracy_score(y_real, y_prediccion)       \n",
    "f1_macro = f1_score(y_real, y_prediccion, average='macro')\n",
    "F1_X_clase = f1_score(y_real, y_prediccion, average=None)\n",
    "print(accuracy)\n",
    "print(f1_macro)\n",
    "print(F1_X_clase)"
   ]
  },
  {
   "cell_type": "markdown",
   "metadata": {},
   "source": [
    "# YASA PRUEBA"
   ]
  },
  {
   "cell_type": "code",
   "execution_count": 76,
   "metadata": {},
   "outputs": [],
   "source": [
    "import yasa\n",
    "import pandas as pd"
   ]
  },
  {
   "cell_type": "code",
   "execution_count": null,
   "metadata": {},
   "outputs": [],
   "source": [
    "# probando el algoritmo de GSSC datos SC\n",
    "dic = r'H:\\Mi unidad\\FormatoBIDS\\DataseSleep-Casset\\sub-001\\ses-001\\eeg\\sub-001_ses-001_task-sleep_eeg.edf'\n",
    "hip = r'H:\\Mi unidad\\FormatoBIDS\\DataseSleep-Casset\\sub-001\\ses-001\\eeg\\sub-001_ses-001_task-sleep_events.tsv'\n",
    "\n",
    "dic_dublin =r'H:\\Mi unidad\\FormatoBIDS\\DatasetCollegeDublin\\sub-001\\ses-001\\eeg\\sub-001_ses-001_task-sleep_eeg.edf'\n",
    "hip_dublin = r'H:\\Mi unidad\\FormatoBIDS\\DatasetCollegeDublin\\sub-001\\ses-001\\eeg\\sub-001_ses-001_task-sleep_events.tsv'\n",
    "\n",
    "# leo los datos\n",
    "raw =  mne.io.read_raw_edf(dic, preload =  True)\n",
    "anotaciones_real  = pd.read_csv(hip, sep  = '\\t')"
   ]
  },
  {
   "cell_type": "code",
   "execution_count": null,
   "metadata": {},
   "outputs": [],
   "source": [
    "pesos2"
   ]
  },
  {
   "cell_type": "code",
   "execution_count": 60,
   "metadata": {},
   "outputs": [
    {
     "data": {
      "text/plain": [
       "['EEG Fpz-Cz',\n",
       " 'EEG Pz-Oz',\n",
       " 'EOG horizontal',\n",
       " 'Resp oro-nasal',\n",
       " 'EMG submental',\n",
       " 'Temp rectal',\n",
       " 'Event marker']"
      ]
     },
     "execution_count": 60,
     "metadata": {},
     "output_type": "execute_result"
    }
   ],
   "source": [
    "raw.info.ch_names"
   ]
  },
  {
   "cell_type": "code",
   "execution_count": 68,
   "metadata": {},
   "outputs": [
    {
     "data": {
      "text/html": [
       "<table class=\"table table-hover table-striped table-sm table-responsive small\">\n",
       "    <tr>\n",
       "        <th>Measurement date</th>\n",
       "        \n",
       "        <td>April 24, 1989  16:13:00 GMT</td>\n",
       "        \n",
       "    </tr>\n",
       "    <tr>\n",
       "        <th>Experimenter</th>\n",
       "        \n",
       "        <td>Unknown</td>\n",
       "        \n",
       "    </tr>\n",
       "        <th>Participant</th>\n",
       "        \n",
       "        <td>Unknown</td>\n",
       "        \n",
       "    </tr>\n",
       "    <tr>\n",
       "        <th>Digitized points</th>\n",
       "        \n",
       "        <td>Not available</td>\n",
       "        \n",
       "    </tr>\n",
       "    <tr>\n",
       "        <th>Good channels</th>\n",
       "        <td>5 EEG, 1 EOG, 1 EMG</td>\n",
       "    </tr>\n",
       "    <tr>\n",
       "        <th>Bad channels</th>\n",
       "        <td>None</td>\n",
       "    </tr>\n",
       "    <tr>\n",
       "        <th>EOG channels</th>\n",
       "        <td>EOG horizontal</td>\n",
       "    </tr>\n",
       "    <tr>\n",
       "        <th>ECG channels</th>\n",
       "        <td>Not available</td>\n",
       "    \n",
       "    <tr>\n",
       "        <th>Sampling frequency</th>\n",
       "        <td>100.00 Hz</td>\n",
       "    </tr>\n",
       "    \n",
       "    \n",
       "    <tr>\n",
       "        <th>Highpass</th>\n",
       "        <td>0.50 Hz</td>\n",
       "    </tr>\n",
       "    \n",
       "    \n",
       "    <tr>\n",
       "        <th>Lowpass</th>\n",
       "        <td>30.00 Hz</td>\n",
       "    </tr>\n",
       "    \n",
       "    \n",
       "    \n",
       "    <tr>\n",
       "        <th>Filenames</th>\n",
       "        <td>sub-001_ses-001_task-sleep_eeg.edf</td>\n",
       "    </tr>\n",
       "    \n",
       "    <tr>\n",
       "        <th>Duration</th>\n",
       "        <td>22:04:60 (HH:MM:SS)</td>\n",
       "    </tr>\n",
       "</table>"
      ],
      "text/plain": [
       "<RawEDF | sub-001_ses-001_task-sleep_eeg.edf, 7 x 7950000 (79500.0 s), ~424.6 MB, data loaded>"
      ]
     },
     "execution_count": 68,
     "metadata": {},
     "output_type": "execute_result"
    }
   ],
   "source": [
    "metadata = {'channels' : { 'eog' : [ 'EOG horizontal'], 'eeg': ['EEG Fpz-Cz','EEG Pz-Oz'], 'emg' : ['EMG submental']}}\n",
    "raw.set_channel_types({'EOG horizontal': 'eog', 'EMG submental': 'emg'})"
   ]
  },
  {
   "cell_type": "code",
   "execution_count": 70,
   "metadata": {},
   "outputs": [
    {
     "data": {
      "text/plain": [
       "['EMG submental']"
      ]
     },
     "execution_count": 70,
     "metadata": {},
     "output_type": "execute_result"
    }
   ],
   "source": [
    "metadata[\"channels\"][\"emg\"]"
   ]
  },
  {
   "cell_type": "code",
   "execution_count": 71,
   "metadata": {},
   "outputs": [
    {
     "name": "stderr",
     "output_type": "stream",
     "text": [
      "c:\\Users\\Bruno\\OneDrive\\Escritorio\\Proyecto\\.venv\\lib\\site-packages\\sklearn\\base.py:318: UserWarning: Trying to unpickle estimator LabelEncoder from version 0.24.2 when using version 0.22.2. This might lead to breaking code or invalid results. Use at your own risk.\n",
      "  UserWarning)\n"
     ]
    }
   ],
   "source": [
    "sls = yasa.SleepStaging(raw, eeg_name= metadata[\"channels\"][\"eeg\"][0], eog_name=metadata[\"channels\"][\"eog\"][0], emg_name=metadata[\"channels\"][\"emg\"][0])\n",
    "anotaciones = sls.predict()\n",
    "pesos = sls.predict_proba()"
   ]
  },
  {
   "cell_type": "code",
   "execution_count": 78,
   "metadata": {},
   "outputs": [],
   "source": [
    "p = pd.DataFrame(np.array(pesos2), columns = ['W', 'N1', 'N2', 'N3', 'R'])"
   ]
  },
  {
   "cell_type": "code",
   "execution_count": 91,
   "metadata": {},
   "outputs": [
    {
     "data": {
      "text/html": [
       "<div>\n",
       "<style scoped>\n",
       "    .dataframe tbody tr th:only-of-type {\n",
       "        vertical-align: middle;\n",
       "    }\n",
       "\n",
       "    .dataframe tbody tr th {\n",
       "        vertical-align: top;\n",
       "    }\n",
       "\n",
       "    .dataframe thead th {\n",
       "        text-align: right;\n",
       "    }\n",
       "</style>\n",
       "<table border=\"1\" class=\"dataframe\">\n",
       "  <thead>\n",
       "    <tr style=\"text-align: right;\">\n",
       "      <th></th>\n",
       "      <th>W</th>\n",
       "      <th>N1</th>\n",
       "      <th>N2</th>\n",
       "      <th>N3</th>\n",
       "      <th>R</th>\n",
       "    </tr>\n",
       "  </thead>\n",
       "  <tbody>\n",
       "    <tr>\n",
       "      <th>1200</th>\n",
       "      <td>0.192456</td>\n",
       "      <td>0.252340</td>\n",
       "      <td>98.898338</td>\n",
       "      <td>0.323813</td>\n",
       "      <td>0.333052</td>\n",
       "    </tr>\n",
       "    <tr>\n",
       "      <th>1201</th>\n",
       "      <td>0.224862</td>\n",
       "      <td>0.286128</td>\n",
       "      <td>98.649765</td>\n",
       "      <td>0.390891</td>\n",
       "      <td>0.448351</td>\n",
       "    </tr>\n",
       "    <tr>\n",
       "      <th>1202</th>\n",
       "      <td>0.380246</td>\n",
       "      <td>0.505126</td>\n",
       "      <td>97.582863</td>\n",
       "      <td>0.594227</td>\n",
       "      <td>0.937537</td>\n",
       "    </tr>\n",
       "    <tr>\n",
       "      <th>1203</th>\n",
       "      <td>0.538230</td>\n",
       "      <td>0.734006</td>\n",
       "      <td>96.408501</td>\n",
       "      <td>0.810535</td>\n",
       "      <td>1.508732</td>\n",
       "    </tr>\n",
       "    <tr>\n",
       "      <th>1204</th>\n",
       "      <td>0.656792</td>\n",
       "      <td>0.901739</td>\n",
       "      <td>95.493011</td>\n",
       "      <td>0.962787</td>\n",
       "      <td>1.985670</td>\n",
       "    </tr>\n",
       "    <tr>\n",
       "      <th>...</th>\n",
       "      <td>...</td>\n",
       "      <td>...</td>\n",
       "      <td>...</td>\n",
       "      <td>...</td>\n",
       "      <td>...</td>\n",
       "    </tr>\n",
       "    <tr>\n",
       "      <th>1496</th>\n",
       "      <td>0.014458</td>\n",
       "      <td>0.018048</td>\n",
       "      <td>0.015847</td>\n",
       "      <td>0.012300</td>\n",
       "      <td>99.939346</td>\n",
       "    </tr>\n",
       "    <tr>\n",
       "      <th>1497</th>\n",
       "      <td>0.016206</td>\n",
       "      <td>0.022080</td>\n",
       "      <td>0.018221</td>\n",
       "      <td>0.013920</td>\n",
       "      <td>99.929565</td>\n",
       "    </tr>\n",
       "    <tr>\n",
       "      <th>1498</th>\n",
       "      <td>0.024456</td>\n",
       "      <td>0.031952</td>\n",
       "      <td>0.025221</td>\n",
       "      <td>0.019001</td>\n",
       "      <td>99.899368</td>\n",
       "    </tr>\n",
       "    <tr>\n",
       "      <th>1499</th>\n",
       "      <td>12.087590</td>\n",
       "      <td>19.423548</td>\n",
       "      <td>5.345958</td>\n",
       "      <td>2.953599</td>\n",
       "      <td>60.189301</td>\n",
       "    </tr>\n",
       "    <tr>\n",
       "      <th>1500</th>\n",
       "      <td>7.094642</td>\n",
       "      <td>68.170593</td>\n",
       "      <td>3.966141</td>\n",
       "      <td>2.388341</td>\n",
       "      <td>18.380280</td>\n",
       "    </tr>\n",
       "  </tbody>\n",
       "</table>\n",
       "<p>301 rows × 5 columns</p>\n",
       "</div>"
      ],
      "text/plain": [
       "              W         N1         N2        N3          R\n",
       "1200   0.192456   0.252340  98.898338  0.323813   0.333052\n",
       "1201   0.224862   0.286128  98.649765  0.390891   0.448351\n",
       "1202   0.380246   0.505126  97.582863  0.594227   0.937537\n",
       "1203   0.538230   0.734006  96.408501  0.810535   1.508732\n",
       "1204   0.656792   0.901739  95.493011  0.962787   1.985670\n",
       "...         ...        ...        ...       ...        ...\n",
       "1496   0.014458   0.018048   0.015847  0.012300  99.939346\n",
       "1497   0.016206   0.022080   0.018221  0.013920  99.929565\n",
       "1498   0.024456   0.031952   0.025221  0.019001  99.899368\n",
       "1499  12.087590  19.423548   5.345958  2.953599  60.189301\n",
       "1500   7.094642  68.170593   3.966141  2.388341  18.380280\n",
       "\n",
       "[301 rows x 5 columns]"
      ]
     },
     "execution_count": 91,
     "metadata": {},
     "output_type": "execute_result"
    }
   ],
   "source": [
    "p.loc[1200:1500,p.columns]"
   ]
  },
  {
   "cell_type": "code",
   "execution_count": 92,
   "metadata": {},
   "outputs": [
    {
     "data": {
      "text/html": [
       "<div>\n",
       "<style scoped>\n",
       "    .dataframe tbody tr th:only-of-type {\n",
       "        vertical-align: middle;\n",
       "    }\n",
       "\n",
       "    .dataframe tbody tr th {\n",
       "        vertical-align: top;\n",
       "    }\n",
       "\n",
       "    .dataframe thead th {\n",
       "        text-align: right;\n",
       "    }\n",
       "</style>\n",
       "<table border=\"1\" class=\"dataframe\">\n",
       "  <thead>\n",
       "    <tr style=\"text-align: right;\">\n",
       "      <th></th>\n",
       "      <th>W</th>\n",
       "      <th>N1</th>\n",
       "      <th>N2</th>\n",
       "      <th>N3</th>\n",
       "      <th>R</th>\n",
       "    </tr>\n",
       "    <tr>\n",
       "      <th>epoch</th>\n",
       "      <th></th>\n",
       "      <th></th>\n",
       "      <th></th>\n",
       "      <th></th>\n",
       "      <th></th>\n",
       "    </tr>\n",
       "  </thead>\n",
       "  <tbody>\n",
       "    <tr>\n",
       "      <th>1200</th>\n",
       "      <td>0.068734</td>\n",
       "      <td>0.152577</td>\n",
       "      <td>0.468513</td>\n",
       "      <td>1.800103e-02</td>\n",
       "      <td>0.292175</td>\n",
       "    </tr>\n",
       "    <tr>\n",
       "      <th>1201</th>\n",
       "      <td>0.014500</td>\n",
       "      <td>0.137234</td>\n",
       "      <td>0.720954</td>\n",
       "      <td>4.152526e-03</td>\n",
       "      <td>0.123160</td>\n",
       "    </tr>\n",
       "    <tr>\n",
       "      <th>1202</th>\n",
       "      <td>0.021751</td>\n",
       "      <td>0.224097</td>\n",
       "      <td>0.497096</td>\n",
       "      <td>2.323113e-03</td>\n",
       "      <td>0.254733</td>\n",
       "    </tr>\n",
       "    <tr>\n",
       "      <th>1203</th>\n",
       "      <td>0.039966</td>\n",
       "      <td>0.352371</td>\n",
       "      <td>0.294551</td>\n",
       "      <td>3.886250e-03</td>\n",
       "      <td>0.309225</td>\n",
       "    </tr>\n",
       "    <tr>\n",
       "      <th>1204</th>\n",
       "      <td>0.013526</td>\n",
       "      <td>0.674820</td>\n",
       "      <td>0.123879</td>\n",
       "      <td>2.594242e-03</td>\n",
       "      <td>0.185180</td>\n",
       "    </tr>\n",
       "    <tr>\n",
       "      <th>...</th>\n",
       "      <td>...</td>\n",
       "      <td>...</td>\n",
       "      <td>...</td>\n",
       "      <td>...</td>\n",
       "      <td>...</td>\n",
       "    </tr>\n",
       "    <tr>\n",
       "      <th>1496</th>\n",
       "      <td>0.387274</td>\n",
       "      <td>0.038922</td>\n",
       "      <td>0.024168</td>\n",
       "      <td>5.103418e-03</td>\n",
       "      <td>0.544533</td>\n",
       "    </tr>\n",
       "    <tr>\n",
       "      <th>1497</th>\n",
       "      <td>0.242269</td>\n",
       "      <td>0.103052</td>\n",
       "      <td>0.034059</td>\n",
       "      <td>7.291467e-05</td>\n",
       "      <td>0.620547</td>\n",
       "    </tr>\n",
       "    <tr>\n",
       "      <th>1498</th>\n",
       "      <td>0.621802</td>\n",
       "      <td>0.088474</td>\n",
       "      <td>0.086955</td>\n",
       "      <td>3.091296e-04</td>\n",
       "      <td>0.202460</td>\n",
       "    </tr>\n",
       "    <tr>\n",
       "      <th>1499</th>\n",
       "      <td>0.348964</td>\n",
       "      <td>0.469633</td>\n",
       "      <td>0.029488</td>\n",
       "      <td>6.603740e-07</td>\n",
       "      <td>0.151914</td>\n",
       "    </tr>\n",
       "    <tr>\n",
       "      <th>1500</th>\n",
       "      <td>0.478123</td>\n",
       "      <td>0.240608</td>\n",
       "      <td>0.012043</td>\n",
       "      <td>1.511360e-04</td>\n",
       "      <td>0.269074</td>\n",
       "    </tr>\n",
       "  </tbody>\n",
       "</table>\n",
       "<p>301 rows × 5 columns</p>\n",
       "</div>"
      ],
      "text/plain": [
       "              W        N1        N2            N3         R\n",
       "epoch                                                      \n",
       "1200   0.068734  0.152577  0.468513  1.800103e-02  0.292175\n",
       "1201   0.014500  0.137234  0.720954  4.152526e-03  0.123160\n",
       "1202   0.021751  0.224097  0.497096  2.323113e-03  0.254733\n",
       "1203   0.039966  0.352371  0.294551  3.886250e-03  0.309225\n",
       "1204   0.013526  0.674820  0.123879  2.594242e-03  0.185180\n",
       "...         ...       ...       ...           ...       ...\n",
       "1496   0.387274  0.038922  0.024168  5.103418e-03  0.544533\n",
       "1497   0.242269  0.103052  0.034059  7.291467e-05  0.620547\n",
       "1498   0.621802  0.088474  0.086955  3.091296e-04  0.202460\n",
       "1499   0.348964  0.469633  0.029488  6.603740e-07  0.151914\n",
       "1500   0.478123  0.240608  0.012043  1.511360e-04  0.269074\n",
       "\n",
       "[301 rows x 5 columns]"
      ]
     },
     "execution_count": 92,
     "metadata": {},
     "output_type": "execute_result"
    }
   ],
   "source": [
    "pesos.loc[1200:1500,p.columns]"
   ]
  }
 ],
 "metadata": {
  "kernelspec": {
   "display_name": ".venv",
   "language": "python",
   "name": "python3"
  },
  "language_info": {
   "codemirror_mode": {
    "name": "ipython",
    "version": 3
   },
   "file_extension": ".py",
   "mimetype": "text/x-python",
   "name": "python",
   "nbconvert_exporter": "python",
   "pygments_lexer": "ipython3",
   "version": "3.7.6"
  }
 },
 "nbformat": 4,
 "nbformat_minor": 2
}
