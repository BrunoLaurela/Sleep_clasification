{
 "cells": [
  {
   "cell_type": "code",
   "execution_count": 1,
   "metadata": {},
   "outputs": [
    {
     "name": "stderr",
     "output_type": "stream",
     "text": [
      "c:\\Users\\Bruno\\OneDrive\\Escritorio\\Proyecto\\.venv\\lib\\site-packages\\outdated\\utils.py:18: OutdatedPackageWarning: The package yasa is out of date. Your version is 0.6.3, the latest is 0.6.4.\n",
      "Set the environment variable OUTDATED_IGNORE=1 to disable these warnings.\n",
      "  **kwargs\n"
     ]
    }
   ],
   "source": [
    "from DetectoresEnsamblados import  kComplexDetect, Periodograma_Welch_por_segmento, SpindleDetect,RemDetect,DetectorSW\n",
    "import mne_bids\n",
    "import mne\n",
    "import pandas as pd\n",
    "import numpy as np\n",
    "from scipy.io import loadmat\n",
    "import matplotlib.pyplot as plt\n"
   ]
  },
  {
   "cell_type": "code",
   "execution_count": null,
   "metadata": {},
   "outputs": [],
   "source": [
    "\n",
    "def salida_predicha(hypno):\n",
    "    hip = []\n",
    "    for k, duracion in enumerate(hypno['duration']):\n",
    "        \"\"\"\n",
    "        if n_veces == 0 :\n",
    "            estado = hypno['trial_type'][k]\n",
    "            hip.extend([estado] * 1)\n",
    "        else :\n",
    "        \"\"\"\n",
    "        if duracion == 0:\n",
    "            n_veces = 1\n",
    "        else :\n",
    "            n_veces = int(duracion / 30)\n",
    "            estado = hypno['trial_type'][k]\n",
    "            hip.extend([estado] * n_veces)\n",
    "    \n",
    "    return hip"
   ]
  },
  {
   "cell_type": "code",
   "execution_count": null,
   "metadata": {},
   "outputs": [],
   "source": [
    "pathSC = r'H:\\Mi unidad\\FormatoBIDS\\DataseSleep-Casset\\sub-001\\ses-001\\eeg\\sub-001_ses-001_task-sleep_eeg.edf'\n",
    "hipSC = r'H:\\Mi unidad\\FormatoBIDS\\DataseSleep-Casset\\sub-001\\ses-001\\eeg\\sub-001_ses-001_task-sleep_events.tsv'\n",
    "\n",
    "path3 = r'H:\\Mi unidad\\FormatoBIDS\\DatasetSHHS1\\sub-00003\\ses-001\\eeg\\sub-00003_ses-001_task-sleep_eeg.edf' #55.0\tmale\n",
    "hyp_path3 =  r'H:\\Mi unidad\\FormatoBIDS\\DatasetSHHS1\\sub-00003\\ses-001\\eeg\\sub-00003_ses-001_task-sleep_events.tsv'\n",
    "\n",
    "raw = mne.io.read_raw_edf(path3,preload=True)\n",
    "#raw.pick_channels(['EEG'])\n",
    "\n",
    "anotacion = pd.read_csv(hyp_path3, sep = '\\t')\n"
   ]
  },
  {
   "cell_type": "code",
   "execution_count": null,
   "metadata": {},
   "outputs": [],
   "source": [
    "anotacion"
   ]
  },
  {
   "cell_type": "markdown",
   "metadata": {},
   "source": [
    "# Prueba Kcomplex"
   ]
  },
  {
   "cell_type": "code",
   "execution_count": null,
   "metadata": {},
   "outputs": [],
   "source": [
    "hipno = salida_predicha(anotacion)"
   ]
  },
  {
   "cell_type": "code",
   "execution_count": null,
   "metadata": {},
   "outputs": [],
   "source": [
    "#raw.set_annotations(mne.Annotations(onset=anotacion['onset'],duration=anotacion['duration'], description=anotacion['trial_type']))\n",
    "raw.set_annotations(mne.Annotations(onset = [30*n for n in np.arange(len(hipno))], duration = np.zeros_like([30*n for n in np.arange(len(hipno))]), description = hipno))### esta es al forma indicada de enviar la anotacion))### esta es al forma indicada de enviar la anotacion"
   ]
  },
  {
   "cell_type": "code",
   "execution_count": null,
   "metadata": {},
   "outputs": [],
   "source": [
    "m = {'NREM1': 1, 'NREM2': 2, 'NREM3': 3, 'REM': 4, 'WAKE': 0}\n",
    "list(m.values())"
   ]
  },
  {
   "cell_type": "code",
   "execution_count": null,
   "metadata": {},
   "outputs": [],
   "source": [
    "#raw.set_annotations(annot_mne, emit_warning=False)\n",
    "one_ ,raw_stim = kComplexDetect(raw, 'EEG',{'NREM1': 1, 'NREM2': 2, 'NREM3': 3, 'REM': 4, 'WAKE': 0}, Annotacion_con__duracion  = False) # todavia no anda  usando anotacion_con_duracion = True "
   ]
  },
  {
   "cell_type": "code",
   "execution_count": null,
   "metadata": {},
   "outputs": [],
   "source": [
    "raw_stim['STIMcomplexK']"
   ]
  },
  {
   "cell_type": "code",
   "execution_count": null,
   "metadata": {},
   "outputs": [],
   "source": [
    "sum(raw_stim['STIMcomplexK'][0][0])\n",
    "#358"
   ]
  },
  {
   "cell_type": "code",
   "execution_count": null,
   "metadata": {},
   "outputs": [],
   "source": [
    "%matplotlib widget\n",
    "raw.plot()"
   ]
  },
  {
   "cell_type": "markdown",
   "metadata": {},
   "source": [
    "## Pruebo otra data"
   ]
  },
  {
   "cell_type": "code",
   "execution_count": null,
   "metadata": {},
   "outputs": [],
   "source": [
    "raw_=r'H:\\.shortcut-targets-by-id\\1oz7_KTs_0LBRN7CMTRkLDKYI--PGbP_t\\CNTR_VMA_NOCHE-BIDS_copy\\sub-174\\ses-day1\\eeg\\sub-174_ses-day1_task-sleep_eeg.edf'\n",
    "hip =  r'H:\\.shortcut-targets-by-id\\1epHQ10lpZXvKpjB3tVz3XnAwTgWm38El\\SUENIO\\sub-174\\ses-day1\\sleep_staging\\sub-174_ses-day1_task-sleep_sleepStages.mat'\n",
    "raw = mne.io.read_raw(raw_, preload=True)\n",
    "data  =  loadmat(hip)"
   ]
  },
  {
   "cell_type": "code",
   "execution_count": null,
   "metadata": {},
   "outputs": [],
   "source": [
    "anotaciones_event_id = {'NREM1': 1, 'NREM2': 2, 'REM': 4, 'NREM3': 3, 'WAKE': 0}\n",
    "\"\"\"\n",
    "onsets = [n*30  for n in np.arange(len(annotsleep['trial_type']))]\n",
    "duractions = [30 for _ in np.arange(len(annotsleep['trial_type']))]\n",
    "description = annotsleep['trial_type']\n",
    "annotations = mne.Annotations(onset=onsets, duration=duractions, description=description)\n",
    "\n",
    "raw.set_annotations(annotations, emit_warning=False)\n",
    "raw.info\n",
    "\n",
    "#events_train, _ = mne.events_from_annotations(\n",
    "#  raw, event_id=anotaciones_event_id, chunk_duration=30.)\n",
    "\"\"\"\n",
    "hypno = pd.DataFrame()\n",
    "hypno['onset'] = [n*30  for n in np.arange(data['stageData'][0][0][6].shape[0])] #[n*30  for n in np.arange(len(annotsleep['trial_type']))]\n",
    "hypno['dur'] =  [30  for n in np.arange(data['stageData'][0][0][6].shape[0])] #[30 for _ in np.arange(len(annotsleep['trial_type']))]\n",
    "hypno['label'] = data['stageData'][0][0][6].flatten().tolist() #description.map(anotaciones_event_id)\n",
    "annot_mne = mne.Annotations(onset= [n*30  for n in np.arange(data['stageData'][0][0][6].shape[0])] , duration= [30  for n in np.arange(data['stageData'][0][0][6].shape[0])], description=data['stageData'][0][0][6].flatten().tolist())\n"
   ]
  },
  {
   "cell_type": "code",
   "execution_count": null,
   "metadata": {},
   "outputs": [],
   "source": [
    "raw_stim = kComplexDetect(raw, 'C4',annot_mne) "
   ]
  },
  {
   "cell_type": "markdown",
   "metadata": {},
   "source": [
    "# Prueba Periodograma_Welch_por_segmento"
   ]
  },
  {
   "cell_type": "code",
   "execution_count": null,
   "metadata": {},
   "outputs": [],
   "source": [
    "bandpower = Periodograma_Welch_por_segmento(raw, ['EEG Fpz-Cz','EEG Pz-Oz']) "
   ]
  },
  {
   "cell_type": "code",
   "execution_count": null,
   "metadata": {},
   "outputs": [],
   "source": [
    "bandpower.shape"
   ]
  },
  {
   "cell_type": "code",
   "execution_count": null,
   "metadata": {},
   "outputs": [],
   "source": [
    "import matplotlib.pyplot as plt\n",
    "\n",
    "fig, ax = plt.subplots( figsize = (15, 7))\n",
    "x = np.linspace(1, 2650, 2650)\n",
    "\n",
    "\n",
    "ax.plot(x,bandpower[0,:, 0], label ='delta')\n",
    "#ax[0].set_title(\"Delta Plot\")\n",
    "ax.plot(x,bandpower[1,:, 0],label ='theta')\n",
    "ax.plot(x,bandpower[2,:, 0], label ='alfa')\n",
    "ax.plot(x,bandpower[3,:, 0],label ='sigma')\n",
    "ax.plot(x,bandpower[4,:, 0],label ='beta')\n",
    "ax.legend()\n",
    "fig.show()\n"
   ]
  },
  {
   "cell_type": "markdown",
   "metadata": {},
   "source": [
    "# Prueba REM"
   ]
  },
  {
   "cell_type": "code",
   "execution_count": null,
   "metadata": {},
   "outputs": [],
   "source": [
    "raw_ = r'H:\\Mi unidad\\FormatoBIDS\\DatasetHaaglandenMedischCentrumSleep\\sub-001\\ses-001\\eeg\\sub-001_ses-001_task-sleep_eeg.edf'\n",
    "_= raw = mne.io.read_raw_edf(raw_, preload=True)\n",
    "raw.set_channel_types({'E1-M2' :'eog', 'E2-M2': 'eog'})"
   ]
  },
  {
   "cell_type": "code",
   "execution_count": 3,
   "metadata": {},
   "outputs": [],
   "source": [
    "data = raw.get_data(picks= ['E1-M2', 'E2-M2'], units ='uV')"
   ]
  },
  {
   "cell_type": "code",
   "execution_count": 5,
   "metadata": {},
   "outputs": [
    {
     "name": "stdout",
     "output_type": "stream",
     "text": [
      "Creating RawArray with float64 data, n_channels=1, n_times=6566400\n",
      "    Range : 0 ... 6566399 =      0.000 ... 25649.996 secs\n",
      "Ready.\n"
     ]
    },
    {
     "data": {
      "text/html": [
       "<table class=\"table table-hover table-striped table-sm table-responsive small\">\n",
       "    <tr>\n",
       "        <th>Measurement date</th>\n",
       "        \n",
       "        <td>January 01, 2001  23:59:30 GMT</td>\n",
       "        \n",
       "    </tr>\n",
       "    <tr>\n",
       "        <th>Experimenter</th>\n",
       "        \n",
       "        <td>Unknown</td>\n",
       "        \n",
       "    </tr>\n",
       "        <th>Participant</th>\n",
       "        \n",
       "        <td>Unknown</td>\n",
       "        \n",
       "    </tr>\n",
       "    <tr>\n",
       "        <th>Digitized points</th>\n",
       "        \n",
       "        <td>0 points</td>\n",
       "        \n",
       "    </tr>\n",
       "    <tr>\n",
       "        <th>Good channels</th>\n",
       "        <td>6 EEG, 2 EOG, 1 Stimulus</td>\n",
       "    </tr>\n",
       "    <tr>\n",
       "        <th>Bad channels</th>\n",
       "        <td>None</td>\n",
       "    </tr>\n",
       "    <tr>\n",
       "        <th>EOG channels</th>\n",
       "        <td>E1-M2, E2-M2</td>\n",
       "    </tr>\n",
       "    <tr>\n",
       "        <th>ECG channels</th>\n",
       "        <td>Not available</td>\n",
       "    \n",
       "    <tr>\n",
       "        <th>Sampling frequency</th>\n",
       "        <td>256.00 Hz</td>\n",
       "    </tr>\n",
       "    \n",
       "    \n",
       "    <tr>\n",
       "        <th>Highpass</th>\n",
       "        <td>0.20 Hz</td>\n",
       "    </tr>\n",
       "    \n",
       "    \n",
       "    <tr>\n",
       "        <th>Lowpass</th>\n",
       "        <td>35.00 Hz</td>\n",
       "    </tr>\n",
       "    \n",
       "    \n",
       "    \n",
       "    <tr>\n",
       "        <th>Filenames</th>\n",
       "        <td>sub-001_ses-001_task-sleep_eeg.edf</td>\n",
       "    </tr>\n",
       "    \n",
       "    <tr>\n",
       "        <th>Duration</th>\n",
       "        <td>07:07:30 (HH:MM:SS)</td>\n",
       "    </tr>\n",
       "</table>"
      ],
      "text/plain": [
       "<RawEDF | sub-001_ses-001_task-sleep_eeg.edf, 9 x 6566400 (25650.0 s), ~450.9 MB, data loaded>"
      ]
     },
     "execution_count": 5,
     "metadata": {},
     "output_type": "execute_result"
    }
   ],
   "source": [
    "RemDetect(loc =  data[0], roc =  data[1], sf =  raw.info['sfreq'], raw = raw)"
   ]
  },
  {
   "cell_type": "code",
   "execution_count": 8,
   "metadata": {},
   "outputs": [
    {
     "data": {
      "text/plain": [
       "1058.0"
      ]
     },
     "execution_count": 8,
     "metadata": {},
     "output_type": "execute_result"
    }
   ],
   "source": [
    "np.sum(raw['STIM'][0])"
   ]
  },
  {
   "cell_type": "markdown",
   "metadata": {},
   "source": [
    "# PRUEBA SPINDLE"
   ]
  },
  {
   "cell_type": "code",
   "execution_count": null,
   "metadata": {},
   "outputs": [],
   "source": [
    "raw.info"
   ]
  },
  {
   "cell_type": "code",
   "execution_count": null,
   "metadata": {},
   "outputs": [],
   "source": [
    "raw = SpindleDetect(raw, ['EEG(sec)'])"
   ]
  },
  {
   "cell_type": "code",
   "execution_count": null,
   "metadata": {},
   "outputs": [],
   "source": [
    "\n",
    "np.sum(raw['STIMspindle',:][0])"
   ]
  },
  {
   "cell_type": "markdown",
   "metadata": {},
   "source": [
    "# PRUEBA SW"
   ]
  },
  {
   "cell_type": "code",
   "execution_count": 5,
   "metadata": {},
   "outputs": [
    {
     "name": "stdout",
     "output_type": "stream",
     "text": [
      "Extracting EDF parameters from H:\\Mi unidad\\FormatoBIDS\\DataseSleep-Casset\\sub-001\\ses-001\\eeg\\sub-001_ses-001_task-sleep_eeg.edf...\n",
      "EDF file detected\n",
      "Setting channel info structure...\n",
      "Creating raw.info structure...\n",
      "Reading 0 ... 7949999  =      0.000 ... 79499.990 secs...\n"
     ]
    }
   ],
   "source": [
    "raw_2 = r'H:\\Mi unidad\\FormatoBIDS\\DataseSleep-Casset\\sub-001\\ses-001\\eeg\\sub-001_ses-001_task-sleep_eeg.edf'\n",
    "_= raw = mne.io.read_raw_edf(raw_2, preload=True)"
   ]
  },
  {
   "cell_type": "code",
   "execution_count": 6,
   "metadata": {},
   "outputs": [
    {
     "data": {
      "text/html": [
       "<table class=\"table table-hover table-striped table-sm table-responsive small\">\n",
       "    <tr>\n",
       "        <th>Measurement date</th>\n",
       "        \n",
       "        <td>April 24, 1989  16:13:00 GMT</td>\n",
       "        \n",
       "    </tr>\n",
       "    <tr>\n",
       "        <th>Experimenter</th>\n",
       "        \n",
       "        <td>Unknown</td>\n",
       "        \n",
       "    </tr>\n",
       "        <th>Participant</th>\n",
       "        \n",
       "        <td>Unknown</td>\n",
       "        \n",
       "    </tr>\n",
       "    <tr>\n",
       "        <th>Digitized points</th>\n",
       "        \n",
       "        <td>Not available</td>\n",
       "        \n",
       "    </tr>\n",
       "    <tr>\n",
       "        <th>Good channels</th>\n",
       "        <td>2 EEG</td>\n",
       "    </tr>\n",
       "    <tr>\n",
       "        <th>Bad channels</th>\n",
       "        <td>None</td>\n",
       "    </tr>\n",
       "    <tr>\n",
       "        <th>EOG channels</th>\n",
       "        <td>Not available</td>\n",
       "    </tr>\n",
       "    <tr>\n",
       "        <th>ECG channels</th>\n",
       "        <td>Not available</td>\n",
       "    \n",
       "    <tr>\n",
       "        <th>Sampling frequency</th>\n",
       "        <td>100.00 Hz</td>\n",
       "    </tr>\n",
       "    \n",
       "    \n",
       "    <tr>\n",
       "        <th>Highpass</th>\n",
       "        <td>0.50 Hz</td>\n",
       "    </tr>\n",
       "    \n",
       "    \n",
       "    <tr>\n",
       "        <th>Lowpass</th>\n",
       "        <td>100.00 Hz</td>\n",
       "    </tr>\n",
       "    \n",
       "    \n",
       "    \n",
       "    <tr>\n",
       "        <th>Filenames</th>\n",
       "        <td>sub-001_ses-001_task-sleep_eeg.edf</td>\n",
       "    </tr>\n",
       "    \n",
       "    <tr>\n",
       "        <th>Duration</th>\n",
       "        <td>22:04:60 (HH:MM:SS)</td>\n",
       "    </tr>\n",
       "</table>"
      ],
      "text/plain": [
       "<RawEDF | sub-001_ses-001_task-sleep_eeg.edf, 2 x 7950000 (79500.0 s), ~121.3 MB, data loaded>"
      ]
     },
     "execution_count": 6,
     "metadata": {},
     "output_type": "execute_result"
    }
   ],
   "source": [
    "raw.pick_channels(['EEG Fpz-Cz',\n",
    " 'EEG Pz-Oz'])"
   ]
  },
  {
   "cell_type": "code",
   "execution_count": 7,
   "metadata": {},
   "outputs": [
    {
     "name": "stdout",
     "output_type": "stream",
     "text": [
      "Creating RawArray with float64 data, n_channels=1, n_times=7950000\n",
      "    Range : 0 ... 7949999 =      0.000 ... 79499.990 secs\n",
      "Ready.\n"
     ]
    },
    {
     "data": {
      "text/html": [
       "<table class=\"table table-hover table-striped table-sm table-responsive small\">\n",
       "    <tr>\n",
       "        <th>Measurement date</th>\n",
       "        \n",
       "        <td>April 24, 1989  16:13:00 GMT</td>\n",
       "        \n",
       "    </tr>\n",
       "    <tr>\n",
       "        <th>Experimenter</th>\n",
       "        \n",
       "        <td>Unknown</td>\n",
       "        \n",
       "    </tr>\n",
       "        <th>Participant</th>\n",
       "        \n",
       "        <td>Unknown</td>\n",
       "        \n",
       "    </tr>\n",
       "    <tr>\n",
       "        <th>Digitized points</th>\n",
       "        \n",
       "        <td>0 points</td>\n",
       "        \n",
       "    </tr>\n",
       "    <tr>\n",
       "        <th>Good channels</th>\n",
       "        <td>2 EEG, 1 Stimulus</td>\n",
       "    </tr>\n",
       "    <tr>\n",
       "        <th>Bad channels</th>\n",
       "        <td>None</td>\n",
       "    </tr>\n",
       "    <tr>\n",
       "        <th>EOG channels</th>\n",
       "        <td>Not available</td>\n",
       "    </tr>\n",
       "    <tr>\n",
       "        <th>ECG channels</th>\n",
       "        <td>Not available</td>\n",
       "    \n",
       "    <tr>\n",
       "        <th>Sampling frequency</th>\n",
       "        <td>100.00 Hz</td>\n",
       "    </tr>\n",
       "    \n",
       "    \n",
       "    <tr>\n",
       "        <th>Highpass</th>\n",
       "        <td>0.50 Hz</td>\n",
       "    </tr>\n",
       "    \n",
       "    \n",
       "    <tr>\n",
       "        <th>Lowpass</th>\n",
       "        <td>100.00 Hz</td>\n",
       "    </tr>\n",
       "    \n",
       "    \n",
       "    \n",
       "    <tr>\n",
       "        <th>Filenames</th>\n",
       "        <td>sub-001_ses-001_task-sleep_eeg.edf</td>\n",
       "    </tr>\n",
       "    \n",
       "    <tr>\n",
       "        <th>Duration</th>\n",
       "        <td>22:04:60 (HH:MM:SS)</td>\n",
       "    </tr>\n",
       "</table>"
      ],
      "text/plain": [
       "<RawEDF | sub-001_ses-001_task-sleep_eeg.edf, 3 x 7950000 (79500.0 s), ~182.0 MB, data loaded>"
      ]
     },
     "execution_count": 7,
     "metadata": {},
     "output_type": "execute_result"
    }
   ],
   "source": [
    "DetectorSW(raw)"
   ]
  },
  {
   "cell_type": "code",
   "execution_count": 8,
   "metadata": {},
   "outputs": [
    {
     "data": {
      "text/plain": [
       "3614.0"
      ]
     },
     "execution_count": 8,
     "metadata": {},
     "output_type": "execute_result"
    }
   ],
   "source": [
    "np.sum(raw['STIMSW'][0])"
   ]
  },
  {
   "cell_type": "code",
   "execution_count": 16,
   "metadata": {},
   "outputs": [],
   "source": [
    "def positive_input(func):\n",
    "    def wrapper(x):\n",
    "        if x <= 0:\n",
    "            raise ValueError(\"Input must be positive\")\n",
    "        return func(x)\n",
    "    return wrapper\n",
    "\n",
    "@positive_input\n",
    "def square(x):\n",
    "    return x**2\n",
    "\n",
    "\n",
    "f = positive_input(square)"
   ]
  }
 ],
 "metadata": {
  "kernelspec": {
   "display_name": "env",
   "language": "python",
   "name": "python3"
  },
  "language_info": {
   "codemirror_mode": {
    "name": "ipython",
    "version": 3
   },
   "file_extension": ".py",
   "mimetype": "text/x-python",
   "name": "python",
   "nbconvert_exporter": "python",
   "pygments_lexer": "ipython3",
   "version": "3.7.6"
  }
 },
 "nbformat": 4,
 "nbformat_minor": 2
}
